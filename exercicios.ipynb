{
  "nbformat": 4,
  "nbformat_minor": 0,
  "metadata": {
    "colab": {
      "provenance": [],
      "authorship_tag": "ABX9TyOhlxhIkNB7lVTVzu7lXgys",
      "include_colab_link": true
    },
    "kernelspec": {
      "name": "python3",
      "display_name": "Python 3"
    },
    "language_info": {
      "name": "python"
    }
  },
  "cells": [
    {
      "cell_type": "markdown",
      "metadata": {
        "id": "view-in-github",
        "colab_type": "text"
      },
      "source": [
        "<a href=\"https://colab.research.google.com/github/thaisgarcia/exercicios-while-python/blob/main/exercicios.ipynb\" target=\"_parent\"><img src=\"https://colab.research.google.com/assets/colab-badge.svg\" alt=\"Open In Colab\"/></a>"
      ]
    },
    {
      "cell_type": "markdown",
      "source": [
        "1) Faça um programa que peça uma nota, entre zero e dez. Mostre uma mensagem caso o valor seja inválido e continue pedindo até que o usuário informe um valor válido."
      ],
      "metadata": {
        "id": "ukqXnLMkokzs"
      }
    },
    {
      "cell_type": "code",
      "source": [
        "n = int(input(\"Digite a nota de 0 a 10: \"))\n",
        "\n",
        "while n not in range(11):\n",
        "    print(\"Valor inválido! Digite novamente.\")\n",
        "    n = int(input(\"Digite a nota de 0 a 10: \"))"
      ],
      "metadata": {
        "colab": {
          "base_uri": "https://localhost:8080/"
        },
        "id": "q17FkglHorz_",
        "outputId": "107cf7fa-24d0-4ff8-826b-d9b73ee08576"
      },
      "execution_count": 1,
      "outputs": [
        {
          "name": "stdout",
          "output_type": "stream",
          "text": [
            "Digite a nota de 0 a 10: 11\n",
            "Valor inválido! Digite novamente.\n",
            "Digite a nota de 0 a 10: 22\n",
            "Valor inválido! Digite novamente.\n",
            "Digite a nota de 0 a 10: -1\n",
            "Valor inválido! Digite novamente.\n",
            "Digite a nota de 0 a 10: 8\n"
          ]
        }
      ]
    },
    {
      "cell_type": "markdown",
      "source": [
        "2) Faça um programa que leia um nome de usuário e a sua senha e não aceite a senha igual ao nome do usuário, mostrando uma mensagem de erro e voltando a pedir as informações."
      ],
      "metadata": {
        "id": "MjwA0uAAo5Tw"
      }
    },
    {
      "cell_type": "code",
      "source": [
        "nome = input(\"Digite seu nome: \")\n",
        "senha = input(\"Digite sua senha: \")\n",
        "\n",
        "while nome == senha:\n",
        "    print(\"Dados inválidos! Digite novamente.\")\n",
        "    nome = input(\"Digite seu nome: \")\n",
        "    senha = input(\"Digite sua senha: \")"
      ],
      "metadata": {
        "colab": {
          "base_uri": "https://localhost:8080/"
        },
        "id": "s0-o5fj-o-y8",
        "outputId": "e9d4fca1-6183-447b-e458-8a5e5bbcefe8"
      },
      "execution_count": 2,
      "outputs": [
        {
          "name": "stdout",
          "output_type": "stream",
          "text": [
            "Digite seu nome: thaisgarcia\n",
            "Digite sua senha: thaisgarcia\n",
            "Dados inválidos! Digite novamente.\n",
            "Digite seu nome: thaisgarcia\n",
            "Digite sua senha: 162321\n"
          ]
        }
      ]
    },
    {
      "cell_type": "markdown",
      "source": [
        "3)  Faça um programa que leia e valide as seguintes informações:\n",
        "\n",
        "a.Idade: entre 0 e 150;\n",
        "b.Salário: maior que zero;\n",
        "c.Sexo: 'f' ou 'm';\n",
        "d.Estado Civil: 's', 'c', 'v', 'd';"
      ],
      "metadata": {
        "id": "3X1quLfupOeb"
      }
    },
    {
      "cell_type": "code",
      "source": [
        "idade = int(input(\"Informe sua idade: \"))\n",
        "salario = float(input(\"Informe seu salário: \"))\n",
        "sexo = input(\"Informe seu sexo ('f' ou 'm'): \")\n",
        "estado_civil = input(\"s - solteiro \\nc - casado \\nv - viúvo \\nd - divorciado\\nInforme seu estado civil: \")\n",
        "\n",
        "while (idade < 0) and (idade > 150):\n",
        "    idade = int(input(\"Dado inválido! Informe novamente sua idade: \"))\n",
        "\n",
        "while salario < 0:\n",
        "    salario = float(input(\"Dado inválido! Informe novamente seu salário: \"))\n",
        "\n",
        "while (sexo != \"f\") and (sexo != \"m\"):\n",
        "    sexo = input(\"Dado inválido! Informe novamente seu sexo ('f' ou 'm'): \")\n",
        "\n",
        "while (estado_civil != \"s\") and (estado_civil != \"c\") and (estado_civil != \"v\") and (estado_civil != \"d\"):\n",
        "    estado_civil = input(\"Dados inválido! \\ns - solteiro \\nc - casado \\nv - viúvo \\nd - divorciado\\nInforme seu estado civil: \")"
      ],
      "metadata": {
        "colab": {
          "base_uri": "https://localhost:8080/"
        },
        "id": "ocn0R-36pTZ1",
        "outputId": "e9466f73-277c-4b36-8e61-0aff745cb530"
      },
      "execution_count": 3,
      "outputs": [
        {
          "name": "stdout",
          "output_type": "stream",
          "text": [
            "Informe sua idade: 22\n",
            "Informe seu salário: 1500\n",
            "Informe seu sexo ('f' ou 'm'): w\n",
            "s - solteiro \n",
            "c - casado \n",
            "v - viúvo \n",
            "d - divorciado\n",
            "Informe seu estado civil: t\n",
            "Dado inválido! Informe novamente seu sexo ('f' ou 'm'): f\n",
            "Dados inválido! \n",
            "s - solteiro \n",
            "c - casado \n",
            "v - viúvo \n",
            "d - divorciado\n",
            "Informe seu estado civil: s\n"
          ]
        }
      ]
    },
    {
      "cell_type": "markdown",
      "source": [
        "4) Supondo que a população de um país A seja da ordem de 80000 habitantes com uma taxa anual de crescimento de 3% e que a população de B seja 200000 habitantes com uma taxa de crescimento de 1.5%. Faça um programa que calcule e escreva o número de anos necessários para que a população do país A ultrapasse ou iguale a população do país B, mantidas as taxas de crescimento.\n",
        "\n"
      ],
      "metadata": {
        "id": "NVPnQKZ8pYTN"
      }
    },
    {
      "cell_type": "code",
      "source": [
        "populacaoA = 80000\n",
        "populacaoB = 200000\n",
        "anos = 0\n",
        "\n",
        "while populacaoA < populacaoB:\n",
        "    populacaoA += populacaoA * 0.03\n",
        "    populacaoB += populacaoB * 0.015\n",
        "    anos += 1\n",
        "print(f\"Serão necessários {anos} anos para a população do país A passar ou igualar a do país B.\")"
      ],
      "metadata": {
        "colab": {
          "base_uri": "https://localhost:8080/"
        },
        "id": "b6jjBzLspoNc",
        "outputId": "e72cfa68-f78a-437a-e9ae-6fa6466c2b58"
      },
      "execution_count": 4,
      "outputs": [
        {
          "output_type": "stream",
          "name": "stdout",
          "text": [
            "Serão necessários 63 anos para a população do país A passar ou igualar a do país B.\n"
          ]
        }
      ]
    },
    {
      "cell_type": "markdown",
      "source": [
        "5) Faça um programa que peça para n pessoas a sua idade, ao final o programa deverá verificar se a média de idade da turma varia entre 0 e 25,26 e 60 e maior que 60; e então, dizer se a turma é jovem, adulta ou idosa, conforme a média calculada."
      ],
      "metadata": {
        "id": "DrP-0SkrpsLj"
      }
    },
    {
      "cell_type": "code",
      "source": [
        "n = int(input(\"Digite o número de pessoas: \"))\n",
        "i = 0\n",
        "soma_idades = 0\n",
        "\n",
        "while i < n:\n",
        "    i += 1\n",
        "    idade = int(input(f\"Digite a idade da pessoa {i}: \"))\n",
        "    soma_idades += idade\n",
        "\n",
        "media = soma_idades / n\n",
        "\n",
        "if media < 26:\n",
        "    print(f\"A média de idade da turma é {media:.2f} anos e é considerada jovem.\")\n",
        "elif media < 60:\n",
        "    print(f\"A média de idade da turma é {media:.2f} anos e é considerada adulta.\")\n",
        "else:\n",
        "    print(f\"A média de idade da turma é {media:.2f} anos e é considerada idosa.\")"
      ],
      "metadata": {
        "colab": {
          "base_uri": "https://localhost:8080/"
        },
        "id": "EL2oktFQpuy_",
        "outputId": "0dfcae10-6d4b-4d75-fc6c-067948ea81ff"
      },
      "execution_count": 6,
      "outputs": [
        {
          "output_type": "stream",
          "name": "stdout",
          "text": [
            "Digite o número de pessoas: 6\n",
            "Digite a idade da pessoa 1: 30\n",
            "Digite a idade da pessoa 2: 27\n",
            "Digite a idade da pessoa 3: 40\n",
            "Digite a idade da pessoa 4: 18\n",
            "Digite a idade da pessoa 5: 26\n",
            "Digite a idade da pessoa 6: 20\n",
            "A média de idade da turma é 26.83 anos e é considerada adulta.\n"
          ]
        }
      ]
    }
  ]
}