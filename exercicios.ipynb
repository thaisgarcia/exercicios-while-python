{
 "cells": [
  {
   "cell_type": "markdown",
   "metadata": {},
   "source": [
    "1) Faça um programa que peça uma nota, entre zero e dez. Mostre uma mensagem caso o valor seja inválido e continue pedindo até que o usuário informe um valor válido."
   ]
  },
  {
   "cell_type": "code",
   "execution_count": 2,
   "metadata": {},
   "outputs": [
    {
     "name": "stdout",
     "output_type": "stream",
     "text": [
      "Valor inválido! Digite novamente.\n",
      "Nota = 8\n"
     ]
    }
   ],
   "source": [
    "n = int(input(\"Digite a nota de 0 a 10: \"))\n",
    "\n",
    "while n not in range(11):\n",
    "    print(\"Valor inválido! Digite novamente.\")\n",
    "    n = int(input(\"Digite a nota de 0 a 10: \"))\n",
    "print(f\"Nota = {n}\")"
   ]
  },
  {
   "cell_type": "markdown",
   "metadata": {},
   "source": [
    "2) Faça um programa que leia um nome de usuário e a sua senha e não aceite a senha igual ao nome do usuário, mostrando uma mensagem de erro e voltando a pedir as informações."
   ]
  },
  {
   "cell_type": "code",
   "execution_count": 3,
   "metadata": {},
   "outputs": [
    {
     "name": "stdout",
     "output_type": "stream",
     "text": [
      "Dados inválidos! Digite novamente.\n"
     ]
    }
   ],
   "source": [
    "nome = input(\"Digite seu nome: \")\n",
    "senha = input(\"Digite sua senha: \")\n",
    "\n",
    "while nome == senha:\n",
    "    print(\"Dados inválidos! Digite novamente.\")\n",
    "    nome = input(\"Digite seu nome: \")\n",
    "    senha = input(\"Digite sua senha: \")"
   ]
  },
  {
   "cell_type": "markdown",
   "metadata": {},
   "source": [
    "3)  Faça um programa que leia e valide as seguintes informações:\n",
    "\n",
    "a.Idade: entre 0 e 150;\n",
    "b.Salário: maior que zero;\n",
    "c.Sexo: 'f' ou 'm';\n",
    "d.Estado Civil: 's', 'c', 'v', 'd';"
   ]
  },
  {
   "cell_type": "code",
   "execution_count": 4,
   "metadata": {},
   "outputs": [],
   "source": [
    "idade = int(input(\"Informe sua idade: \"))\n",
    "salario = float(input(\"Informe seu salário: \"))\n",
    "sexo = input(\"Informe seu sexo ('f' ou 'm'): \")\n",
    "estado_civil = input(\"s - solteiro \\nc - casado \\nv - viúvo \\nd - divorciado\\nInforme seu estado civil: \")\n",
    "\n",
    "while (idade < 0) and (idade > 150):\n",
    "    idade = int(input(\"Dado inválido! Informe novamente sua idade: \"))\n",
    "\n",
    "while salario < 0:\n",
    "    salario = float(input(\"Dado inválido! Informe novamente seu salário: \"))\n",
    "\n",
    "while (sexo != \"f\") and (sexo != \"m\"):\n",
    "    sexo = input(\"Dado inválido! Informe novamente seu sexo ('f' ou 'm'): \")\n",
    "\n",
    "while (estado_civil != \"s\") and (estado_civil != \"c\") and (estado_civil != \"v\") and (estado_civil != \"d\"):\n",
    "    estado_civil = input(\"Dados inválido! \\ns - solteiro \\nc - casado \\nv - viúvo \\nd - divorciado\\nInforme seu estado civil: \")"
   ]
  },
  {
   "cell_type": "markdown",
   "metadata": {},
   "source": [
    "4) Supondo que a população de um país A seja da ordem de 80000 habitantes com uma taxa anual de crescimento de 3% e que a população de B seja 200000 habitantes com uma taxa de crescimento de 1.5%. Faça um programa que calcule e escreva o número de anos necessários para que a população do país A ultrapasse ou iguale a população do país B, mantidas as taxas de crescimento."
   ]
  },
  {
   "cell_type": "code",
   "execution_count": 5,
   "metadata": {},
   "outputs": [
    {
     "name": "stdout",
     "output_type": "stream",
     "text": [
      "Serão necessários 63 anos para a população do país A passar ou igualar a do país B.\n"
     ]
    }
   ],
   "source": [
    "populacaoA = 80000\n",
    "populacaoB = 200000\n",
    "anos = 0\n",
    "\n",
    "while populacaoA < populacaoB:\n",
    "    populacaoA += populacaoA * 0.03\n",
    "    populacaoB += populacaoB * 0.015\n",
    "    anos += 1\n",
    "print(f\"Serão necessários {anos} anos para a população do país A passar ou igualar a do país B.\")"
   ]
  },
  {
   "cell_type": "markdown",
   "metadata": {},
   "source": [
    "5) Faça um programa que peça para n pessoas a sua idade, ao final o programa deverá verificar se a média de idade da turma varia entre 0 e 25,26 e 60 e maior que 60; e então, dizer se a turma é jovem, adulta ou idosa, conforme a média calculada."
   ]
  },
  {
   "cell_type": "code",
   "execution_count": 8,
   "metadata": {},
   "outputs": [
    {
     "name": "stdout",
     "output_type": "stream",
     "text": [
      "A média de idade da turma é 41.20 anos e é considerada adulta.\n"
     ]
    }
   ],
   "source": [
    "n = int(input(\"Digite o número de pessoas: \"))\n",
    "i = 0\n",
    "soma_idades = 0\n",
    "\n",
    "while i < n:\n",
    "    i += 1\n",
    "    idade = int(input(f\"Digite a idade da pessoa {i}: \"))\n",
    "    soma_idades += idade\n",
    "\n",
    "media = soma_idades / n\n",
    "\n",
    "if media < 26:\n",
    "    print(f\"A média de idade da turma é {media:.2f} anos e é considerada jovem.\")\n",
    "elif media < 60:\n",
    "    print(f\"A média de idade da turma é {media:.2f} anos e é considerada adulta.\")\n",
    "else:\n",
    "    print(f\"A média de idade da turma é {media:.2f} anos e é considerada idosa.\")"
   ]
  }
 ],
 "metadata": {
  "kernelspec": {
   "display_name": "Python 3",
   "language": "python",
   "name": "python3"
  },
  "language_info": {
   "codemirror_mode": {
    "name": "ipython",
    "version": 3
   },
   "file_extension": ".py",
   "mimetype": "text/x-python",
   "name": "python",
   "nbconvert_exporter": "python",
   "pygments_lexer": "ipython3",
   "version": "3.10.8"
  }
 },
 "nbformat": 4,
 "nbformat_minor": 2
}
